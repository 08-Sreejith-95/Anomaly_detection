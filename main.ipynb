{
 "cells": [
  {
   "cell_type": "code",
   "execution_count": 2,
   "metadata": {},
   "outputs": [],
   "source": [
    "import numpy as np\n",
    "import nibabel as nib\n",
    "import torch\n",
    "import torch.nn.functional as F \n",
    "import matplotlib.pyplot as plt\n",
    "from IPython import display\n",
    "from pathlib import Path\n",
    "\n",
    "\n",
    "\n",
    "fourdeeseg = '/data_rechenknecht03_2/students/kannath/ACDC/ACDC-Segmentation/fourdee_segmentations'\n",
    "fourdeesegsplit = '/data_rechenknecht03_2/students/kannath/ACDC/ACDC-Segmentation/split_fourdee_segmentations'\n",
    "fourdeeimagesplit = '/data_rechenknecht03_2/students/kannath/ACDC/ACDC-Segmentation/split_fourdee_images'\n",
    "traingdata = '/data_rechenknecht03_2/students/kannath/ACDC/ACDC-Segmentation/training'\n",
    "\n",
    "segsplit = Path(fourdeesegsplit)\n",
    "imgsplit = Path(fourdeeimagesplit)\n",
    "imgsplitfiles = sorted(list(imgsplit.rglob('*gz')))\n",
    "\n",
    "segpatientfiles = sorted(list(segsplit.rglob('*gz')))\n",
    "segpatient_split_path = []\n",
    "imgpatient_split_path =[]\n",
    "for patient in segpatientfiles:\n",
    "    segpatient_split_path.append(str(patient))\n",
    "for patient in imgsplitfiles:\n",
    "    imgpatient_split_path.append(str(patient))\n",
    "    \n",
    "\n",
    "\n",
    "labels = {'Right_Ventricle': 5,\n",
    "          'Left_Ventricle': 3,\n",
    "          'Myocardium': 1}"
   ]
  },
  {
   "attachments": {},
   "cell_type": "markdown",
   "metadata": {},
   "source": [
    "# Functions and their definitions\n",
    "1. __nii2tensor__ : To load and convert nii image object to tensor object    \n",
    "1. __rotation_matrix__: otputs a 2x2 z-axis rotation matrix  with an angle theta deg\n",
    "1. __affine_transform__: used to rotate a point with rotation_matrix \n",
    "1. __get_sparse_indices__: to convert input segmentation to a sparse tensor to find locations of the pixels of the segment of interest\n",
    "1. __affine_matrix__: for creating an affine matrix with rotation and translation component\n",
    "1. __spatialtransformer__: spatial transformation using grid sample  mapping the pixels from input cartesian plane to the output space ([0:H], [0:W]) -> ([-1,1], [-1,1]) (x, y) in input space corresponds to ((-1 + 2/H * x), (-1 + 2/W *y)) in output space"
   ]
  },
  {
   "cell_type": "code",
   "execution_count": 3,
   "metadata": {},
   "outputs": [],
   "source": [
    "def nii2tensor(nii_data_path:str) -> torch.Tensor:\n",
    "    nii2_tensor = torch.as_tensor(nib.load(nii_data_path).get_fdata())\n",
    "   #if input nii2image (W, H, D, T) -> tensor (T, D, H, W), where T= time frame\n",
    "    if nii2_tensor.dim() == 4:\n",
    "        return nii2_tensor.permute(3, 2, 0, 1)\n",
    "   #if input nii2image (W, H, T) -> tensor (T, H, W) or nii2image (W, H, D) -> tensor (D, H, W)\n",
    "    elif nii2_tensor.dim() == 3:\n",
    "        return nii2_tensor.permute(2, 0, 1)\n",
    "\n",
    "\n",
    "def rotation_matrix(theta = 60) -> torch.Tensor(size=(2,2)):\n",
    "    theta_rad = np.radians(theta)\n",
    "    s = np.sin(theta_rad)\n",
    "    c = np.cos(theta_rad)\n",
    "    R = np.array(((c,-s), \n",
    "                  (s,c)))\n",
    "    R_tensor = torch.as_tensor(R).float()\n",
    "    \n",
    "    return R_tensor\n",
    "\n",
    "\n",
    "def affine_transform(point: torch.Tensor):\n",
    "    return torch.matmul(rotation_matrix(), point.t()).t().float()\n",
    "    \n",
    "\n",
    "def get_sparse_indices(seg_tensor:torch.Tensor, label) -> torch.Tensor:\n",
    "    segment = (seg_tensor == label)\n",
    "    indices = segment.to_sparse().indices()\n",
    "    return indices\n",
    "\n",
    "\n",
    "def affine_matrix(rotation:torch.Tensor, translation:torch.Tensor):\n",
    "    return torch.cat((rotation, translation),dim =1)\n",
    "\n",
    "\n",
    "def spatialtransformer(input: torch.Tensor, affine_matrix: torch.Tensor):\n",
    "    grid = F.affine_grid(affine_matrix, input.shape)\n",
    "    return F.grid_sample(input, grid, align_corners = False)"
   ]
  },
  {
   "cell_type": "code",
   "execution_count": 4,
   "metadata": {},
   "outputs": [],
   "source": [
    "class SegSpace2D():\n",
    "    '''\n",
    "    This class is to extract required coordinates of pixels in 2D segmented space -> (x, y) coordinate system\n",
    "    '''\n",
    "    def __init__(self, nii_tensor:torch.Tensor):\n",
    "        self.nii_tensor = nii_tensor\n",
    "    \n",
    "    def get_origin(self,label) -> torch.Tensor:\n",
    "        if label == labels['Right_Ventricle'] or label == labels['Left_Ventricle']:\n",
    "            origin = get_sparse_indices(self.nii_tensor, label).float().mean(1)\n",
    "        elif label == labels['Myocardium']:\n",
    "            indices_myo = get_sparse_indices(self.nii_tensor, label).float()\n",
    "            _ , n = indices_myo.shape\n",
    "            # _, w = self.nii_tensor.shape\n",
    "            origin = indices_myo[:,3*n//4]#took a random point located around the middle of myo seg as origin since taking the mean over all point outputs a point near to LV. (since they are similar to concentric circles)\n",
    "            \n",
    "        return torch.round(origin)\n",
    "    \n",
    "    def get_r_vectors(self, n, label_from, label_to)-> torch.Tensor: #outputs n+1 vectors from the centre of lv to myo\n",
    "        vectors = []\n",
    "        point_from = self.get_origin(label_from)\n",
    "        point_to = self.get_origin(label_to)\n",
    "        initial_point = point_to - point_from\n",
    "        #initial_point_origin = \n",
    "        #vectors.append(initial_point)\n",
    "        initial_vector_i = point_from + initial_point\n",
    "        vectors.append(initial_vector_i)\n",
    "        i = 0\n",
    "        while i < n:\n",
    "            rotated = affine_transform(initial_point)\n",
    "            rotated_seg_origin_nxt = point_from + rotated\n",
    "            vectors.append(rotated_seg_origin_nxt)\n",
    "            initial_point = rotated\n",
    "            i += 1\n",
    "        \n",
    "        return vectors"
   ]
  },
  {
   "cell_type": "code",
   "execution_count": 1,
   "metadata": {},
   "outputs": [
    {
     "data": {
      "text/plain": [
       "\"\\nif __name__ == '__main__':\\n   seg_image_n = nii2tensor(segpatient_split_path[2])[7]#segmented slice at frame 8\\n   seg = SegSpace2D(seg_image_n)\\n   #origin_myo = seg.get_origin(labels['Myocardium']) \\n   #Rotation = [[1, 0],\\n   #            [0, 1]]\\n   rotated_vectors = seg.get_r_vectors(5, labels['Left_Ventricle'], label_to=labels['Myocardium'])\\n   extracted = []\\n   H, W = seg_image_n.shape\\n   for index in rotated_vectors:\\n       h, w = index\\n       h_grid_unit, w_grid_unit = (2/H)*h, (2/W)*w\\n       m, n = -1 + h_grid_unit , -1 + w_grid_unit\\n       translation =torch.as_tensor([m, n]).reshape(2,1)\\n       T = affine_matrix(torch.as_tensor(rotation_matrix(0)), translation).unsqueeze(0).float()\\n       seg_T = spatialtransformer(seg_image_n.unsqueeze(0).unsqueeze(0).float(), T)\\n       translation_ = torch.as_tensor([0, 0]).reshape(2,1)\\n       T_ = affine_matrix(torch.as_tensor(rotation_matrix(60)), translation_ ).unsqueeze(0).float()\\n       seg_T_rotated = spatialtransformer(seg_T, T_).squeeze(0).squeeze(0)\\n       points = seg_T_rotated[:,0]\\n       extracted.append(points)\\n\""
      ]
     },
     "execution_count": 1,
     "metadata": {},
     "output_type": "execute_result"
    }
   ],
   "source": [
    "'''\n",
    "if __name__ == '__main__':\n",
    "   seg_image_n = nii2tensor(segpatient_split_path[2])[7]#segmented slice at frame 8\n",
    "   seg = SegSpace2D(seg_image_n)\n",
    "   #origin_myo = seg.get_origin(labels['Myocardium']) \n",
    "   #Rotation = [[1, 0],\n",
    "   #            [0, 1]]\n",
    "   rotated_vectors = seg.get_r_vectors(5, labels['Left_Ventricle'], label_to=labels['Myocardium'])\n",
    "   extracted = []\n",
    "   H, W = seg_image_n.shape\n",
    "   for index in rotated_vectors:\n",
    "       h, w = index\n",
    "       h_grid_unit, w_grid_unit = (2/H)*h, (2/W)*w\n",
    "       m, n = -1 + h_grid_unit , -1 + w_grid_unit\n",
    "       translation =torch.as_tensor([m, n]).reshape(2,1)\n",
    "       T = affine_matrix(torch.as_tensor(rotation_matrix(0)), translation).unsqueeze(0).float()\n",
    "       seg_T = spatialtransformer(seg_image_n.unsqueeze(0).unsqueeze(0).float(), T)\n",
    "       translation_ = torch.as_tensor([0, 0]).reshape(2,1)\n",
    "       T_ = affine_matrix(torch.as_tensor(rotation_matrix(60)), translation_ ).unsqueeze(0).float()\n",
    "       seg_T_rotated = spatialtransformer(seg_T, T_).squeeze(0).squeeze(0)\n",
    "       points = seg_T_rotated[:,0]\n",
    "       extracted.append(points)\n",
    "'''"
   ]
  },
  {
   "attachments": {},
   "cell_type": "markdown",
   "metadata": {},
   "source": [
    "### Extracting points and Visualization\n",
    "\n",
    "To visualize the transformations of segmentation input to the centre points"
   ]
  },
  {
   "cell_type": "code",
   "execution_count": 6,
   "metadata": {},
   "outputs": [
    {
     "name": "stderr",
     "output_type": "stream",
     "text": [
      "/home/kannath/.local/lib/python3.8/site-packages/torch/nn/functional.py:4289: UserWarning: Default grid_sample and affine_grid behavior has changed to align_corners=False since 1.3.0. Please specify align_corners=True if the old behavior is desired. See the documentation of grid_sample for details.\n",
      "  warnings.warn(\n"
     ]
    },
    {
     "data": {
      "text/plain": [
       "<matplotlib.image.AxesImage at 0x7f98a2d9ba00>"
      ]
     },
     "execution_count": 6,
     "metadata": {},
     "output_type": "execute_result"
    },
    {
     "data": {
      "image/png": "[encoded data removed]",
      "text/plain": [
       "<Figure size 640x480 with 2 Axes>"
      ]
     },
     "metadata": {},
     "output_type": "display_data"
    }
   ],
   "source": [
    "seg_image_n = nii2tensor(segpatient_split_path[3])[3]#segmented slice at frame 3\n",
    "   # seg = SegSpace2D(seg_image_n)\n",
    "   # rotated_vectors = seg.get_r_vectors(n=5, label_from = labels['Left_Ventricle'], label_to = labels['Myocardium'])\n",
    "Rotation = rotation_matrix(0)\n",
    "r = torch.as_tensor(Rotation)\n",
    "r_ = torch.as_tensor(rotation_matrix(60))\n",
    "seg = SegSpace2D(seg_image_n)\n",
    "Y_l , X_l = seg.get_origin(labels['Left_Ventricle']).numpy() #rotated_vectors[5].numpy()\n",
    "H, W = seg_image_n.shape\n",
    "h_grid_unit, w_grid_unit = 2/H, 2/W\n",
    "t = torch.as_tensor([(-1 + Y_l * h_grid_unit), (-1 + X_l * w_grid_unit)]).reshape(2,1)\n",
    "t_ = torch.as_tensor([0, 0]).reshape(2,1)\n",
    "seg_image_n = seg_image_n.unsqueeze(0).unsqueeze(0).float()\n",
    "affine_grid = affine_matrix(r, t).unsqueeze(0).float()\n",
    "affine_grid_ = affine_matrix(r_, t_).unsqueeze(0).float()\n",
    "grid_sample = spatialtransformer(seg_image_n, affine_grid)\n",
    "Y_m_i, X_m_i = seg.get_origin(labels['Myocardium']).numpy()\n",
    "max_y, max_x = int(np.max([Y_l, Y_m_i])), int(np.max([X_l,X_m_i]))\n",
    "min_y, min_x = int(np.min([Y_l, Y_m_i])), int(np.min([X_l,X_m_i]))\n",
    "point_i = grid_sample.squeeze(0).squeeze(0)[min_y:max_y, int(X_l)]\n",
    "\n",
    "points_extracted = []\n",
    "grid_i = grid_sample\n",
    "\n",
    "\n",
    "i = 1\n",
    "while i < 6:\n",
    "   rotate = rotation_matrix(i * 60)\n",
    "   affine_grid_ = affine_matrix(rotate, t_).unsqueeze(0).float()\n",
    "   grid_sample_temp = spatialtransformer(grid_i, affine_grid_)\n",
    "   grid = SegSpace2D(grid_sample_temp.squeeze(0).squeeze(0))\n",
    "   #Y_l_g , X_l_g = grid.get_origin(labels['Left_Ventricle']).numpy()\n",
    "   Y_m_g, X_m_g =  grid.get_origin(labels['Myocardium']).numpy()\n",
    "   max_y, max_x = int(np.max([Y_l, Y_m_g])), int(np.max([X_l,X_m_g]))\n",
    "   min_y, min_x = int(np.min([Y_l, Y_m_g])), int(np.min([X_l,X_m_g]))\n",
    "   point_i = grid_sample.squeeze(0).squeeze(0)[min_y:max_y, int(X_l)].int()\n",
    "   points_extracted.append(point_i)\n",
    "   grid_i = grid_sample_temp\n",
    "   i+=1\n",
    "   \n",
    "grid_sample_ = spatialtransformer(grid_sample, affine_grid_)\n",
    "fig, (ax1, ax2) = plt.subplots(1,2)\n",
    "ax1.grid()\n",
    "ax1.imshow(grid_sample.squeeze(0).squeeze(0).numpy())\n",
    "ax2.grid()\n",
    "ax2.imshow(grid_sample_.squeeze(0).squeeze(0).numpy())\n",
    "\n"
   ]
  }
 ],
 "metadata": {
  "kernelspec": {
   "display_name": "Python 3",
   "language": "python",
   "name": "python3"
  },
  "language_info": {
   "codemirror_mode": {
    "name": "ipython",
    "version": 3
   },
   "file_extension": ".py",
   "mimetype": "text/x-python",
   "name": "python",
   "nbconvert_exporter": "python",
   "pygments_lexer": "ipython3",
   "version": "3.8.10"
  },
  "orig_nbformat": 4,
  "vscode": {
   "interpreter": {
    "hash": "31f2aee4e71d21fbe5cf8b01ff0e069b9275f58929596ceb00d14d90e3e16cd6"
   }
  }
 },
 "nbformat": 4,
 "nbformat_minor": 2
}
